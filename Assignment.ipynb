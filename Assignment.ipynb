{
 "cells": [
  {
   "cell_type": "markdown",
   "id": "c322a1da",
   "metadata": {},
   "source": [
    "<h1>A brief background</h1>\n",
    "Computational physics is the study of physical systems using computational methods and techniques. It involves the use of computer simulations, numerical methods, and algorithms to solve complex problems in physics that cannot be solved analytically.\n",
    "\n",
    "The task given above involves solving the time-independent Schrödinger equation for a particle in a one-dimensional potential well using the finite difference method, which is a common numerical method used in computational physics. By discretizing the wavefunction and the potential energy function and constructing a Hamiltonian matrix, we can numerically solve for the energy eigenvalues and wavefunctions of the particle.\n",
    "\n",
    "This is an example of how computational physics can be used to study the behavior of quantum mechanical systems, which are often too complex to be solved analytically. By using numerical methods to solve the Schrödinger equation, we can obtain valuable insights into the behavior of particles in potential wells, which can have important applications in fields such as nanotechnology and materials science.\n",
    "<h2>Objectives of this study</h2>\n",
    "the main objective of studying computational physics in this task is to use computational methods and techniques to study the behavior of particles in potential wells and gain insights into the relationship between the potential energy function and the energy eigenvalues and wavefunctions of the particle. By investigating the effect of the well width a and the barrier height V on the particle's behavior, we can better understand the behavior of particles in complex potential wells and develop new applications based on that understanding."
   ]
  },
  {
   "cell_type": "code",
   "execution_count": 9,
   "id": "42e83711",
   "metadata": {},
   "outputs": [
    {
     "data": {
      "image/png": "[encoded data removed]",
      "text/plain": [
       "<Figure size 432x288 with 1 Axes>"
      ]
     },
     "metadata": {
      "needs_background": "light"
     },
     "output_type": "display_data"
    }
   ],
   "source": [
    "import numpy as np\n",
    "import matplotlib.pyplot as plt\n",
    "\n",
    "class ParticleInABox:\n",
    "    def __init__(self, a, b, N):\n",
    "        self.a = a\n",
    "        self.b = b\n",
    "        self.N = N\n",
    "        self.dx = (b-a)/N\n",
    "        self.x = np.linspace(a, b, N)\n",
    "        self.psi = np.zeros(N)\n",
    "        self.V = np.zeros(N)\n",
    "        self.H = np.zeros((N,N))\n",
    "\n",
    "    def potential_energy(self, V_0):\n",
    "        self.V = np.piecewise(self.x, [(self.x<self.a), (self.x>=self.a) & (self.x<=self.b)], [0, V_0])\n",
    "\n",
    "    def hamiltonian(self):\n",
    "        self.H = np.zeros((self.N,self.N))\n",
    "        for i in range(1, self.N-1):\n",
    "            self.H[i,i] = -2/self.dx**2 + self.V[i]\n",
    "            self.H[i,i+1] = 1/self.dx**2\n",
    "            self.H[i,i-1] = 1/self.dx**2\n",
    "        self.H[0,0] = 1.0\n",
    "        self.H[self.N-1,self.N-1] = 1.0\n",
    "\n",
    "    def solve(self):\n",
    "        self.psi = np.linalg.eigh(self.H)[1][:,0]\n",
    "\n",
    "    def plot(self):\n",
    "        plt.plot(self.x, self.psi, label=r'$\\psi(x)$')\n",
    "        plt.plot(self.x, self.V, label=r'$V(x)$')\n",
    "        plt.xlabel('x')\n",
    "        plt.legend()\n",
    "        plt.show()\n",
    "\n",
    "class ParticleInABoxApp:\n",
    "    def __init__(self, a, b, V_0, N):\n",
    "        self.pib = ParticleInABox(a, b, N)\n",
    "        self.pib.potential_energy(V_0)\n",
    "        self.pib.hamiltonian()\n",
    "        self.pib.solve()\n",
    "\n",
    "    def plot(self):\n",
    "        self.pib.plot()\n",
    "\n",
    "a = 0\n",
    "b = 1\n",
    "V_0 = 10\n",
    "N = 1000\n",
    "\n",
    "pib_app = ParticleInABoxApp(a, b, V_0, N)\n",
    "pib_app.plot()\n"
   ]
  },
  {
   "cell_type": "markdown",
   "id": "f8dc5b84",
   "metadata": {},
   "source": [
    "<h1>Conclusion</h1>This code first defines the ParticleInABox class, which is used to set up and solve the Schrödinger equation for a particle in a box with a given potential energy function. The ParticleInABoxApp class is then defined, which creates an instance of ParticleInABox with the given parameters and solves it. Finally, the plot method is used to plot the wavefunction and potential energy function. The parameters a, b, $V_0$, and N are defined outside of the class definitions, and an instance of ParticleInABoxApp is created with these parameters.<p> The values of a, b, and $V_0$ were modified to investigate the effect of changing the well width and barrier height on the energy eigenvalues and wavefunctions of the particle. </p>\n",
    "<p> My journey started with learning the basics of Python programming. I enrolled in an online course on Python programming that covered topics such as Python syntax, data structures, and control structuresi in addition to what I was taught in class.So far  I found this course to be very helpful in getting started with computational physics.<p>\n",
    "<p>So many are the challenges I have encountered in this course. Getting to understand the concept in class was very difficult more spcifically using Python programming to solve prolems like the given above. I always find it difficult to go about the code as I got assisted in the above assignment. All I wish is to be able to solve such problems without any help<p>. <p>My greatest moment was when I solved my first Physics problem using python as in when I used the program to solve the equations of motion.<p>"
   ]
  },
  {
   "cell_type": "markdown",
   "id": "30196607",
   "metadata": {},
   "source": [
    "<h1>Recommendations</h1>Not only do we need to use the python codes to solve physics problem. Introducing us to other areas of this course might help appreciate the whole python programming.  "
   ]
  },
  {
   "cell_type": "code",
   "execution_count": null,
   "id": "b29a8f44",
   "metadata": {},
   "outputs": [],
   "source": []
  }
 ],
 "metadata": {
  "kernelspec": {
   "display_name": "Python 3 (ipykernel)",
   "language": "python",
   "name": "python3"
  },
  "language_info": {
   "codemirror_mode": {
    "name": "ipython",
    "version": 3
   },
   "file_extension": ".py",
   "mimetype": "text/x-python",
   "name": "python",
   "nbconvert_exporter": "python",
   "pygments_lexer": "ipython3",
   "version": "3.9.12"
  }
 },
 "nbformat": 4,
 "nbformat_minor": 5
}
